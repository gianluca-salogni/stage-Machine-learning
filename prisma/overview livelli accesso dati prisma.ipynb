{
 "cells": [
  {
   "cell_type": "markdown",
   "metadata": {},
   "source": [
    "# overview dati prisma\n",
    "\n",
    "prodotti in tre livelli\n",
    "\n",
    "## livello 0\n",
    "dati grezzi riarrangiati in immagini da 30km^2 \n",
    "\n",
    "formato binario, contiene tutti idati restituiti dalla piattaforma\n",
    "\n",
    "## lvl 1\n",
    "dati lvl 0 processati applicando correzioni spettrali e radiometriche\n",
    "\n",
    "formato hdf-eos\n",
    "\n",
    "## lvl 2\n",
    "dati lvl 1 processati applicando correziooni atmosferiche e geometriche\n",
    "\n",
    "formato hdf-eos"
   ]
  }
 ],
 "metadata": {
  "kernelspec": {
   "display_name": "Julia 1.5.1",
   "language": "julia",
   "name": "julia-1.5"
  },
  "language_info": {
   "file_extension": ".jl",
   "mimetype": "application/julia",
   "name": "julia",
   "version": "1.5.1"
  }
 },
 "nbformat": 4,
 "nbformat_minor": 4
}
