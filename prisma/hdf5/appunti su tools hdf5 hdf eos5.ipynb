{
 "cells": [
  {
   "cell_type": "markdown",
   "metadata": {},
   "source": [
    "scaricare hdf view richiede acco gratuito per i download\n",
    "\n",
    "+ link manuale prisma obsoleti? https://wiki.earthdata.nasa.gov/display/DAS/Toolkit+Downloads  \n",
    "\n",
    "+ **prisma usa librerie hdf-eos5 v1.13, hdf-eos5 è ora a versione 1.16**  \n",
    "\n",
    "+ esempio di mmap su hdf5(non hdf-eos5) con julia https://github.com/JuliaIO/HDF5.jl/blob/master/test/mmap.jl  \n",
    "\n",
    "+ immagine docker per hdf eos lib https://hub.docker.com/r/hdfeos/hdfeos  \n",
    "\n",
    "+ sdp toolkit: https://wiki.earthdata.nasa.gov/display/DAS/SDP+Toolkit+and+HDF-EOS+EOSDIS++Core+System+Project  \n",
    "\n",
    "+ tutorial (in c) https://portal.hdfgroup.org/display/HDF5/Learning+the+Basics\n",
    "\n",
    "+ hdfview: tool da https://support.hdfgroup.org/ftp/HDF5/releases/HDF-JAVA/hdf-java-2.10.1/bin/ (plugin non sembra funzionare con versione più recente)\n",
    "  plugin per hdf-eos da https://wiki.earthdata.nasa.gov/display/DAS/HDFView+HDF-EOS+Plug-in  \n",
    "  guida installazione: https://newsroom.gsfc.nasa.gov/sdptoolkit/HDFView/README_HDFView_plugin_v2.10.html  \n",
    "  \n",
    "+ documentazione pkg hdf5 https://juliaio.github.io/HDF5.jl/stable/\n",
    "\n",
    "+ pkg R per importare dati prisma l1/l2 https://lbusett.github.io/prismaread/"
   ]
  },
  {
   "cell_type": "code",
   "execution_count": 3,
   "metadata": {},
   "outputs": [
    {
     "data": {
      "text/plain": [
       "closeall (generic function with 1 method)"
      ]
     },
     "execution_count": 3,
     "metadata": {},
     "output_type": "execute_result"
    }
   ],
   "source": [
    "# docu package hdf5 per julia https://juliaio.github.io/HDF5.jl/stable/\n",
    "# using Pkg\n",
    "# pkg.add(\"HDF5\")\n",
    "using HDF5\n",
    "\n",
    "#errori posson lasciare aperti file-> file inseriti in struct dinamica per poi esser facilmente chiusi tutti\n",
    "openfiles = Dict()\n",
    "counter = 0\n",
    "# funzione che chiude tutti i file aperti\n",
    "function closeall(dict)\n",
    "    for (key, value) in dict\n",
    "        close(pop!(dict, key))    \n",
    "    end\n",
    "    counter = 0\n",
    "    openfiles\n",
    "end"
   ]
  },
  {
   "cell_type": "code",
   "execution_count": null,
   "metadata": {},
   "outputs": [],
   "source": []
  },
  {
   "cell_type": "markdown",
   "metadata": {},
   "source": [
    "apertura file con h5open(filename::string, mode::string) -> file   \n",
    "mode:  \n",
    "\n",
    "| mode | Meaning |\n",
    "|---|---|\n",
    "|\"r\"|read-only|\n",
    "|\"r+\"|read-write, preserving any existing contents|\n",
    "|\"cw\"|read-write, create file if not existing, preserve existing contents|\n",
    "|\"w\"|read-write, destroying any existing contents (if any)|"
   ]
  },
  {
   "cell_type": "code",
   "execution_count": 3,
   "metadata": {},
   "outputs": [
    {
     "data": {
      "text/plain": [
       "HDF5 data file: test.h5"
      ]
     },
     "execution_count": 3,
     "metadata": {},
     "output_type": "execute_result"
    }
   ],
   "source": [
    "testfilename = \"test.h5\"\n",
    "fid = h5open(testfilename, \"w\") # crea file hdf5 vuoto (o lo apre e basta se già esiste)\n",
    "\n",
    "close(fid)\n"
   ]
  },
  {
   "cell_type": "code",
   "execution_count": 6,
   "metadata": {},
   "outputs": [],
   "source": [
    "close(fid)\n",
    "rm(testfilename) #deleta file di prova"
   ]
  },
  {
   "cell_type": "code",
   "execution_count": 4,
   "metadata": {},
   "outputs": [
    {
     "data": {
      "text/plain": [
       "true"
      ]
     },
     "execution_count": 4,
     "metadata": {},
     "output_type": "execute_result"
    }
   ],
   "source": [
    "isopen(fid)"
   ]
  },
  {
   "cell_type": "code",
   "execution_count": 36,
   "metadata": {},
   "outputs": [
    {
     "data": {
      "text/plain": [
       "viewdata (generic function with 1 method)"
      ]
     },
     "execution_count": 36,
     "metadata": {},
     "output_type": "execute_result"
    }
   ],
   "source": [
    "function viewfile(x)\n",
    "    println(\"call viewfile\")\n",
    "   #=for i in x \n",
    "        if typeof(i)==HDF5Group\n",
    "            viewgroup(i)\n",
    "        else\n",
    "            println(typeof(i))\n",
    "        end\n",
    "    end=#\n",
    "    viewgroup(x)\n",
    "end\n",
    "    \n",
    "function viewgroup(g)\n",
    "    println(\"call viewgroup on $g\")\n",
    "    #nome\n",
    "    println(g)\n",
    "    \n",
    "    # attributi\n",
    "    \n",
    "    #view su oggetti contenuti\n",
    "    for i in g\n",
    "        ti = typeof(i)\n",
    "        if ti==HDF5Group\n",
    "            viewgroup(i)\n",
    "        elseif ti==HDF5Dataset\n",
    "            viewdata(i)\n",
    "        else\n",
    "            println(ti)\n",
    "        end\n",
    "    end\n",
    "end\n",
    "\n",
    "function viewdata(d)\n",
    "    println(\"call viewdata on $d\")\n",
    "    # nome\n",
    "    println(d)\n",
    "    #1 dataset mappabile?\n",
    "    if ismmappable(d)\n",
    "        println(\"dataset mmappabile\")\n",
    "    else\n",
    "        println(\"dataset non mmappabile\")\n",
    "    end\n",
    "    #mappatura dataset con readmmap() aumenta rpestazioni per letture numerose di un ds\n",
    "    \n",
    "    # datatype\n",
    "    \n",
    "    # dataspace (dimensioni )\n",
    "    \n",
    "    # nome\n",
    "end   \n",
    "            "
   ]
  },
  {
   "cell_type": "code",
   "execution_count": 37,
   "metadata": {},
   "outputs": [
    {
     "data": {
      "text/plain": [
       "foo (generic function with 1 method)"
      ]
     },
     "execution_count": 37,
     "metadata": {},
     "output_type": "execute_result"
    }
   ],
   "source": [
    "function foo(x) \n",
    "    for i in x \n",
    "        println(typeof(i))\n",
    "    end\n",
    "    println(typeof(x))    \n",
    "end"
   ]
  },
  {
   "cell_type": "code",
   "execution_count": 38,
   "metadata": {},
   "outputs": [
    {
     "name": "stdout",
     "output_type": "stream",
     "text": [
      "ishdf5 ? true\n",
      "call viewfile\n",
      "call viewgroup on HDF5 data file: hdf5_test.h5\n",
      "HDF5 data file: hdf5_test.h5\n",
      "call viewdata on HDF5 dataset: /A note (file: hdf5_test.h5 xfer_mode: 0)\n",
      "dataset non mmappabile\n",
      "call viewdata on HDF5 dataset: /Notes (file: hdf5_test.h5 xfer_mode: 0)\n",
      "dataset non mmappabile\n",
      "call viewgroup on HDF5 group: /arrays (file: hdf5_test.h5)\n",
      "HDF5 group: /arrays (file: hdf5_test.h5)\n",
      "call viewdata on HDF5 dataset: /arrays/1D String (file: hdf5_test.h5 xfer_mode: 0)\n",
      "dataset non mmappabile\n",
      "call viewdata on HDF5 dataset: /arrays/2D float array (file: hdf5_test.h5 xfer_mode: 0)\n",
      "dataset mmappabile\n",
      "call viewdata on HDF5 dataset: /arrays/2D int array (file: hdf5_test.h5 xfer_mode: 0)\n",
      "dataset mmappabile\n",
      "call viewdata on HDF5 dataset: /arrays/2D int8x9 (file: hdf5_test.h5 xfer_mode: 0)\n",
      "dataset mmappabile\n",
      "call viewdata on HDF5 dataset: /arrays/3D int array (file: hdf5_test.h5 xfer_mode: 0)\n",
      "dataset mmappabile\n",
      "call viewdata on HDF5 dataset: /arrays/4D int (file: hdf5_test.h5 xfer_mode: 0)\n",
      "dataset mmappabile\n",
      "call viewdata on HDF5 dataset: /arrays/ArrayOfStructures (file: hdf5_test.h5 xfer_mode: 0)\n",
      "dataset non mmappabile\n",
      "call viewdata on HDF5 dataset: /arrays/Vdata table: PerBlockMetadataCommon (file: hdf5_test.h5 xfer_mode: 0)\n",
      "dataset non mmappabile\n",
      "call viewdata on HDF5 dataset: /arrays/Vdata with mixed types (file: hdf5_test.h5 xfer_mode: 0)\n",
      "dataset non mmappabile\n",
      "call viewgroup on HDF5 group: /datatypes (file: hdf5_test.h5)\n",
      "HDF5 group: /datatypes (file: hdf5_test.h5)\n",
      "HDF5Datatype\n",
      "call viewgroup on HDF5 group: /images (file: hdf5_test.h5)\n",
      "HDF5 group: /images (file: hdf5_test.h5)\n",
      "call viewdata on HDF5 dataset: /images/3D THG (file: hdf5_test.h5 xfer_mode: 0)\n",
      "dataset mmappabile\n",
      "call viewdata on HDF5 dataset: /images/Iceberg (file: hdf5_test.h5 xfer_mode: 0)\n",
      "dataset mmappabile\n",
      "call viewdata on HDF5 dataset: /images/hst_lagoon_detail.jpg (file: hdf5_test.h5 xfer_mode: 0)\n",
      "dataset mmappabile\n",
      "call viewdata on HDF5 dataset: /images/iceberg_palette (file: hdf5_test.h5 xfer_mode: 0)\n",
      "dataset mmappabile\n",
      "call viewdata on HDF5 dataset: /images/landcover.umd.199906.jpg (file: hdf5_test.h5 xfer_mode: 0)\n",
      "dataset mmappabile\n",
      "call viewdata on HDF5 dataset: /images/pixel interlace (file: hdf5_test.h5 xfer_mode: 0)\n",
      "dataset mmappabile\n",
      "call viewdata on HDF5 dataset: /images/plane interlace (file: hdf5_test.h5 xfer_mode: 0)\n",
      "dataset mmappabile\n"
     ]
    },
    {
     "data": {
      "text/plain": [
       "Dict{Any,Any}()"
      ]
     },
     "execution_count": 38,
     "metadata": {},
     "output_type": "execute_result"
    }
   ],
   "source": [
    "#apro in lettura un file sample preso da hdfviewer, faccio qualcosa, chiudo file\n",
    "#inputfile = \"OMI-Aura_.he5\"\n",
    "inputfile = \"hdf5_test.h5\"\n",
    "println(\"ishdf5 ? $(ishdf5(inputfile))\") #ishdf5 prende stringa (nome file) ritorna se file è hdf5\n",
    "file2 = h5open(inputfile, \"r\")\n",
    "openfiles[\"file $counter\"]=file2\n",
    "counter = counter+1\n",
    "#foo(file2)\n",
    "viewfile(file2)\n",
    "closeall(openfiles)\n",
    "isopen(file2)\n",
    "openfiles"
   ]
  },
  {
   "cell_type": "code",
   "execution_count": 31,
   "metadata": {},
   "outputs": [
    {
     "data": {
      "text/plain": [
       "closeall (generic function with 1 method)"
      ]
     },
     "execution_count": 31,
     "metadata": {},
     "output_type": "execute_result"
    }
   ],
   "source": []
  },
  {
   "cell_type": "code",
   "execution_count": 37,
   "metadata": {},
   "outputs": [
    {
     "data": {
      "text/plain": [
       "Dict{Any,Any}()"
      ]
     },
     "execution_count": 37,
     "metadata": {},
     "output_type": "execute_result"
    }
   ],
   "source": [
    "openfiles"
   ]
  },
  {
   "cell_type": "code",
   "execution_count": 39,
   "metadata": {},
   "outputs": [
    {
     "name": "stdout",
     "output_type": "stream",
     "text": [
      "search: \u001b[0m\u001b[1md\u001b[22m\u001b[0m\u001b[1ma\u001b[22m\u001b[0m\u001b[1mt\u001b[22m\u001b[0m\u001b[1ma\u001b[22m\u001b[0m\u001b[1mt\u001b[22m\u001b[0m\u001b[1my\u001b[22m\u001b[0m\u001b[1mp\u001b[22m\u001b[0m\u001b[1me\u001b[22m \u001b[0m\u001b[1mD\u001b[22m\u001b[0m\u001b[1ma\u001b[22m\u001b[0m\u001b[1mt\u001b[22m\u001b[0m\u001b[1ma\u001b[22m\u001b[0m\u001b[1mT\u001b[22m\u001b[0m\u001b[1my\u001b[22m\u001b[0m\u001b[1mp\u001b[22m\u001b[0m\u001b[1me\u001b[22m H\u001b[0m\u001b[1mD\u001b[22mF5D\u001b[0m\u001b[1ma\u001b[22m\u001b[0m\u001b[1mt\u001b[22m\u001b[0m\u001b[1ma\u001b[22m\u001b[0m\u001b[1mt\u001b[22m\u001b[0m\u001b[1my\u001b[22m\u001b[0m\u001b[1mp\u001b[22m\u001b[0m\u001b[1me\u001b[22m\n",
      "\n"
     ]
    },
    {
     "data": {
      "text/latex": [
       "No documentation found.\n",
       "\n",
       "\\texttt{HDF5.datatype} is a \\texttt{Function}.\n",
       "\n",
       "\\begin{verbatim}\n",
       "# 12 methods for generic function \"datatype\":\n",
       "[1] datatype(str::String) in HDF5 at C:\\Users\\i am\\.julia\\packages\\HDF5\\T1b9x\\src\\HDF5.jl:1187\n",
       "[2] datatype(dset::HDF5Attribute) in HDF5 at C:\\Users\\i am\\.julia\\packages\\HDF5\\T1b9x\\src\\HDF5.jl:1171\n",
       "[3] datatype(dset::HDF5Dataset) in HDF5 at C:\\Users\\i am\\.julia\\packages\\HDF5\\T1b9x\\src\\HDF5.jl:1169\n",
       "[4] datatype(x::Union{Bool, Float32, Float64, Int16, Int32, Int64, Int8, UInt16, UInt32, UInt64, UInt8, HDF5.HDF5ReferenceObj}) in HDF5 at C:\\Users\\i am\\.julia\\packages\\HDF5\\T1b9x\\src\\HDF5.jl:1174\n",
       "[5] datatype(::Type{T}) where T<:Union{Bool, Float32, Float64, Int16, Int32, Int64, Int8, UInt16, UInt32, UInt64, UInt8, HDF5.HDF5ReferenceObj} in HDF5 at C:\\Users\\i am\\.julia\\packages\\HDF5\\T1b9x\\src\\HDF5.jl:1175\n",
       "[6] datatype(str::Array{S,N} where N) where S<:String in HDF5 at C:\\Users\\i am\\.julia\\packages\\HDF5\\T1b9x\\src\\HDF5.jl:1193\n",
       "[7] datatype(A::AbstractArray{T,N} where N) where T<:Union{Bool, Float32, Float64, Int16, Int32, Int64, Int8, UInt16, UInt32, UInt64, UInt8, HDF5.HDF5ReferenceObj} in HDF5 at C:\\Users\\i am\\.julia\\packages\\HDF5\\T1b9x\\src\\HDF5.jl:1176\n",
       "[8] datatype(::Type{Complex{T}}) where T<:Union{Bool, Float32, Float64, Int16, Int32, Int64, Int8, UInt16, UInt32, UInt64, UInt8, HDF5.HDF5ReferenceObj} in HDF5 at C:\\Users\\i am\\.julia\\packages\\HDF5\\T1b9x\\src\\HDF5.jl:1177\n",
       "[9] datatype(x::Complex{T}) where T<:Union{Bool, Float32, Float64, Int16, Int32, Int64, Int8, UInt16, UInt32, UInt64, UInt8, HDF5.HDF5ReferenceObj} in HDF5 at C:\\Users\\i am\\.julia\\packages\\HDF5\\T1b9x\\src\\HDF5.jl:1184\n",
       "[10] datatype(A::AbstractArray{Complex{T},N} where N) where T<:Union{Bool, Float32, Float64, Int16, Int32, Int64, Int8, UInt16, UInt32, UInt64, UInt8, HDF5.HDF5ReferenceObj} in HDF5 at C:\\Users\\i am\\.julia\\packages\\HDF5\\T1b9x\\src\\HDF5.jl:1185\n",
       "[11] datatype(A::HDF5Vlen{T}) where T<:Union{Bool, Float32, Float64, Int16, Int32, Int64, Int8, UInt16, UInt32, UInt64, UInt8, HDF5.HDF5ReferenceObj} in HDF5 at C:\\Users\\i am\\.julia\\packages\\HDF5\\T1b9x\\src\\HDF5.jl:1199\n",
       "[12] datatype(str::HDF5Vlen{C}) where C<:HDF5.CharType in HDF5 at C:\\Users\\i am\\.julia\\packages\\HDF5\\T1b9x\\src\\HDF5.jl:1200\n",
       "\\end{verbatim}\n"
      ],
      "text/markdown": [
       "No documentation found.\n",
       "\n",
       "`HDF5.datatype` is a `Function`.\n",
       "\n",
       "```\n",
       "# 12 methods for generic function \"datatype\":\n",
       "[1] datatype(str::String) in HDF5 at C:\\Users\\i am\\.julia\\packages\\HDF5\\T1b9x\\src\\HDF5.jl:1187\n",
       "[2] datatype(dset::HDF5Attribute) in HDF5 at C:\\Users\\i am\\.julia\\packages\\HDF5\\T1b9x\\src\\HDF5.jl:1171\n",
       "[3] datatype(dset::HDF5Dataset) in HDF5 at C:\\Users\\i am\\.julia\\packages\\HDF5\\T1b9x\\src\\HDF5.jl:1169\n",
       "[4] datatype(x::Union{Bool, Float32, Float64, Int16, Int32, Int64, Int8, UInt16, UInt32, UInt64, UInt8, HDF5.HDF5ReferenceObj}) in HDF5 at C:\\Users\\i am\\.julia\\packages\\HDF5\\T1b9x\\src\\HDF5.jl:1174\n",
       "[5] datatype(::Type{T}) where T<:Union{Bool, Float32, Float64, Int16, Int32, Int64, Int8, UInt16, UInt32, UInt64, UInt8, HDF5.HDF5ReferenceObj} in HDF5 at C:\\Users\\i am\\.julia\\packages\\HDF5\\T1b9x\\src\\HDF5.jl:1175\n",
       "[6] datatype(str::Array{S,N} where N) where S<:String in HDF5 at C:\\Users\\i am\\.julia\\packages\\HDF5\\T1b9x\\src\\HDF5.jl:1193\n",
       "[7] datatype(A::AbstractArray{T,N} where N) where T<:Union{Bool, Float32, Float64, Int16, Int32, Int64, Int8, UInt16, UInt32, UInt64, UInt8, HDF5.HDF5ReferenceObj} in HDF5 at C:\\Users\\i am\\.julia\\packages\\HDF5\\T1b9x\\src\\HDF5.jl:1176\n",
       "[8] datatype(::Type{Complex{T}}) where T<:Union{Bool, Float32, Float64, Int16, Int32, Int64, Int8, UInt16, UInt32, UInt64, UInt8, HDF5.HDF5ReferenceObj} in HDF5 at C:\\Users\\i am\\.julia\\packages\\HDF5\\T1b9x\\src\\HDF5.jl:1177\n",
       "[9] datatype(x::Complex{T}) where T<:Union{Bool, Float32, Float64, Int16, Int32, Int64, Int8, UInt16, UInt32, UInt64, UInt8, HDF5.HDF5ReferenceObj} in HDF5 at C:\\Users\\i am\\.julia\\packages\\HDF5\\T1b9x\\src\\HDF5.jl:1184\n",
       "[10] datatype(A::AbstractArray{Complex{T},N} where N) where T<:Union{Bool, Float32, Float64, Int16, Int32, Int64, Int8, UInt16, UInt32, UInt64, UInt8, HDF5.HDF5ReferenceObj} in HDF5 at C:\\Users\\i am\\.julia\\packages\\HDF5\\T1b9x\\src\\HDF5.jl:1185\n",
       "[11] datatype(A::HDF5Vlen{T}) where T<:Union{Bool, Float32, Float64, Int16, Int32, Int64, Int8, UInt16, UInt32, UInt64, UInt8, HDF5.HDF5ReferenceObj} in HDF5 at C:\\Users\\i am\\.julia\\packages\\HDF5\\T1b9x\\src\\HDF5.jl:1199\n",
       "[12] datatype(str::HDF5Vlen{C}) where C<:HDF5.CharType in HDF5 at C:\\Users\\i am\\.julia\\packages\\HDF5\\T1b9x\\src\\HDF5.jl:1200\n",
       "```\n"
      ],
      "text/plain": [
       "  No documentation found.\n",
       "\n",
       "  \u001b[36mHDF5.datatype\u001b[39m is a \u001b[36mFunction\u001b[39m.\n",
       "\n",
       "\u001b[36m  # 12 methods for generic function \"datatype\":\u001b[39m\n",
       "\u001b[36m  [1] datatype(str::String) in HDF5 at C:\\Users\\i am\\.julia\\packages\\HDF5\\T1b9x\\src\\HDF5.jl:1187\u001b[39m\n",
       "\u001b[36m  [2] datatype(dset::HDF5Attribute) in HDF5 at C:\\Users\\i am\\.julia\\packages\\HDF5\\T1b9x\\src\\HDF5.jl:1171\u001b[39m\n",
       "\u001b[36m  [3] datatype(dset::HDF5Dataset) in HDF5 at C:\\Users\\i am\\.julia\\packages\\HDF5\\T1b9x\\src\\HDF5.jl:1169\u001b[39m\n",
       "\u001b[36m  [4] datatype(x::Union{Bool, Float32, Float64, Int16, Int32, Int64, Int8, UInt16, UInt32, UInt64, UInt8, HDF5.HDF5ReferenceObj}) in HDF5 at C:\\Users\\i am\\.julia\\packages\\HDF5\\T1b9x\\src\\HDF5.jl:1174\u001b[39m\n",
       "\u001b[36m  [5] datatype(::Type{T}) where T<:Union{Bool, Float32, Float64, Int16, Int32, Int64, Int8, UInt16, UInt32, UInt64, UInt8, HDF5.HDF5ReferenceObj} in HDF5 at C:\\Users\\i am\\.julia\\packages\\HDF5\\T1b9x\\src\\HDF5.jl:1175\u001b[39m\n",
       "\u001b[36m  [6] datatype(str::Array{S,N} where N) where S<:String in HDF5 at C:\\Users\\i am\\.julia\\packages\\HDF5\\T1b9x\\src\\HDF5.jl:1193\u001b[39m\n",
       "\u001b[36m  [7] datatype(A::AbstractArray{T,N} where N) where T<:Union{Bool, Float32, Float64, Int16, Int32, Int64, Int8, UInt16, UInt32, UInt64, UInt8, HDF5.HDF5ReferenceObj} in HDF5 at C:\\Users\\i am\\.julia\\packages\\HDF5\\T1b9x\\src\\HDF5.jl:1176\u001b[39m\n",
       "\u001b[36m  [8] datatype(::Type{Complex{T}}) where T<:Union{Bool, Float32, Float64, Int16, Int32, Int64, Int8, UInt16, UInt32, UInt64, UInt8, HDF5.HDF5ReferenceObj} in HDF5 at C:\\Users\\i am\\.julia\\packages\\HDF5\\T1b9x\\src\\HDF5.jl:1177\u001b[39m\n",
       "\u001b[36m  [9] datatype(x::Complex{T}) where T<:Union{Bool, Float32, Float64, Int16, Int32, Int64, Int8, UInt16, UInt32, UInt64, UInt8, HDF5.HDF5ReferenceObj} in HDF5 at C:\\Users\\i am\\.julia\\packages\\HDF5\\T1b9x\\src\\HDF5.jl:1184\u001b[39m\n",
       "\u001b[36m  [10] datatype(A::AbstractArray{Complex{T},N} where N) where T<:Union{Bool, Float32, Float64, Int16, Int32, Int64, Int8, UInt16, UInt32, UInt64, UInt8, HDF5.HDF5ReferenceObj} in HDF5 at C:\\Users\\i am\\.julia\\packages\\HDF5\\T1b9x\\src\\HDF5.jl:1185\u001b[39m\n",
       "\u001b[36m  [11] datatype(A::HDF5Vlen{T}) where T<:Union{Bool, Float32, Float64, Int16, Int32, Int64, Int8, UInt16, UInt32, UInt64, UInt8, HDF5.HDF5ReferenceObj} in HDF5 at C:\\Users\\i am\\.julia\\packages\\HDF5\\T1b9x\\src\\HDF5.jl:1199\u001b[39m\n",
       "\u001b[36m  [12] datatype(str::HDF5Vlen{C}) where C<:HDF5.CharType in HDF5 at C:\\Users\\i am\\.julia\\packages\\HDF5\\T1b9x\\src\\HDF5.jl:1200\u001b[39m"
      ]
     },
     "execution_count": 39,
     "metadata": {},
     "output_type": "execute_result"
    }
   ],
   "source": [
    "?datatype\n"
   ]
  },
  {
   "cell_type": "code",
   "execution_count": null,
   "metadata": {},
   "outputs": [],
   "source": []
  }
 ],
 "metadata": {
  "kernelspec": {
   "display_name": "Julia 1.5.1",
   "language": "julia",
   "name": "julia-1.5"
  },
  "language_info": {
   "file_extension": ".jl",
   "mimetype": "application/julia",
   "name": "julia",
   "version": "1.5.1"
  }
 },
 "nbformat": 4,
 "nbformat_minor": 4
}
