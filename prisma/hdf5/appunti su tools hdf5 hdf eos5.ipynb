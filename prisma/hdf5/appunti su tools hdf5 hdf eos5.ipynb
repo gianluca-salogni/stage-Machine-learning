{
 "cells": [
  {
   "cell_type": "markdown",
   "metadata": {},
   "source": [
    "scaricare hdf view richiede acco gratuito per i download\n",
    "\n",
    "+ link manuale prisma obsoleti? https://wiki.earthdata.nasa.gov/display/DAS/Toolkit+Downloads  \n",
    "\n",
    "+ **prisma usa librerie hdf-eos5 v1.13, hdf-eos5 è ora a versione 1.16**  \n",
    "\n",
    "+ esempio di mmap su hdf5(non hdf-eos5) con julia https://github.com/JuliaIO/HDF5.jl/blob/master/test/mmap.jl  \n",
    "\n",
    "+ immagine docker per hdf eos lib https://hub.docker.com/r/hdfeos/hdfeos  \n",
    "\n",
    "+ sdp toolkit: https://wiki.earthdata.nasa.gov/display/DAS/SDP+Toolkit+and+HDF-EOS+EOSDIS++Core+System+Project  \n",
    "\n",
    "+ tutorial (in c) https://portal.hdfgroup.org/display/HDF5/Learning+the+Basics\n",
    "\n",
    "+ hdfview: tool da https://support.hdfgroup.org/ftp/HDF5/releases/HDF-JAVA/hdf-java-2.10.1/bin/ (plugin non sembra funzionare con versione più recente)\n",
    "  plugin per hdf-eos da https://wiki.earthdata.nasa.gov/display/DAS/HDFView+HDF-EOS+Plug-in  \n",
    "  guida installazione: https://newsroom.gsfc.nasa.gov/sdptoolkit/HDFView/README_HDFView_plugin_v2.10.html  \n",
    "  \n",
    "+ documentazione pkg hdf5 https://juliaio.github.io/HDF5.jl/stable/"
   ]
  },
  {
   "cell_type": "code",
   "execution_count": 35,
   "metadata": {},
   "outputs": [
    {
     "data": {
      "text/plain": [
       "closeall (generic function with 2 methods)"
      ]
     },
     "execution_count": 35,
     "metadata": {},
     "output_type": "execute_result"
    }
   ],
   "source": [
    "# docu package hdf5 per julia https://juliaio.github.io/HDF5.jl/stable/\n",
    "# using Pkg\n",
    "# pkg.add(\"HDF5\")\n",
    "using HDF5\n",
    "\n",
    "#errori posson lasciare aperti file-> file inseriti in struct dinamica per poi esser facilmente chiusi tutti\n",
    "openfiles = Dict()\n",
    "counter = 0\n",
    "# funzione che chiude tutti i file aperti\n",
    "function closeall(dict)\n",
    "    for (key, value) in dict\n",
    "        close(pop!(dict, key))    \n",
    "    end\n",
    "    counter = 0\n",
    "    openfiles\n",
    "end"
   ]
  },
  {
   "cell_type": "code",
   "execution_count": null,
   "metadata": {},
   "outputs": [],
   "source": []
  },
  {
   "cell_type": "markdown",
   "metadata": {},
   "source": [
    "apertura file con h5open(filename::string, mode::string) -> file   \n",
    "mode:  \n",
    "\n",
    "| mode | Meaning |\n",
    "|---|---|\n",
    "|\"r\"|read-only|\n",
    "|\"r+\"|read-write, preserving any existing contents|\n",
    "|\"cw\"|read-write, create file if not existing, preserve existing contents|\n",
    "|\"w\"|read-write, destroying any existing contents (if any)|"
   ]
  },
  {
   "cell_type": "code",
   "execution_count": 3,
   "metadata": {},
   "outputs": [
    {
     "data": {
      "text/plain": [
       "HDF5 data file: test.h5"
      ]
     },
     "execution_count": 3,
     "metadata": {},
     "output_type": "execute_result"
    }
   ],
   "source": [
    "testfilename = \"test.h5\"\n",
    "fid = h5open(testfilename, \"w\") # crea file hdf5 vuoto (o lo apre e basta se già esiste)\n",
    "\n",
    "close(fid)\n"
   ]
  },
  {
   "cell_type": "code",
   "execution_count": 6,
   "metadata": {},
   "outputs": [],
   "source": [
    "close(fid)\n",
    "rm(testfilename) #deleta file di prova"
   ]
  },
  {
   "cell_type": "code",
   "execution_count": 4,
   "metadata": {},
   "outputs": [
    {
     "data": {
      "text/plain": [
       "true"
      ]
     },
     "execution_count": 4,
     "metadata": {},
     "output_type": "execute_result"
    }
   ],
   "source": [
    "isopen(fid)"
   ]
  },
  {
   "cell_type": "code",
   "execution_count": null,
   "metadata": {},
   "outputs": [],
   "source": []
  },
  {
   "cell_type": "code",
   "execution_count": 18,
   "metadata": {},
   "outputs": [
    {
     "data": {
      "text/plain": [
       "foo (generic function with 1 method)"
      ]
     },
     "execution_count": 18,
     "metadata": {},
     "output_type": "execute_result"
    }
   ],
   "source": [
    "function foo(x) \n",
    "    println(typeof(x))\n",
    "end"
   ]
  },
  {
   "cell_type": "code",
   "execution_count": 36,
   "metadata": {},
   "outputs": [
    {
     "name": "stdout",
     "output_type": "stream",
     "text": [
      "HDF5File\n"
     ]
    },
    {
     "data": {
      "text/plain": [
       "Dict{Any,Any}()"
      ]
     },
     "execution_count": 36,
     "metadata": {},
     "output_type": "execute_result"
    }
   ],
   "source": [
    "#apro in lettura un file sample preso da hdfviewer, faccio qualcosa, chiudo file\n",
    "\n",
    "file2 = h5open(\"hdf5_test.h5\", \"r\")\n",
    "foo(file2)\n",
    "openfiles[\"file $counter\"]=file2\n",
    "counter = counter+1;\n",
    "closeall(openfiles)\n",
    "isopen(file2)\n",
    "openfiles"
   ]
  },
  {
   "cell_type": "code",
   "execution_count": 31,
   "metadata": {},
   "outputs": [
    {
     "data": {
      "text/plain": [
       "closeall (generic function with 1 method)"
      ]
     },
     "execution_count": 31,
     "metadata": {},
     "output_type": "execute_result"
    }
   ],
   "source": []
  },
  {
   "cell_type": "code",
   "execution_count": 37,
   "metadata": {},
   "outputs": [
    {
     "data": {
      "text/plain": [
       "Dict{Any,Any}()"
      ]
     },
     "execution_count": 37,
     "metadata": {},
     "output_type": "execute_result"
    }
   ],
   "source": [
    "openfiles"
   ]
  },
  {
   "cell_type": "code",
   "execution_count": null,
   "metadata": {},
   "outputs": [],
   "source": []
  },
  {
   "cell_type": "code",
   "execution_count": null,
   "metadata": {},
   "outputs": [],
   "source": []
  }
 ],
 "metadata": {
  "kernelspec": {
   "display_name": "Julia 1.5.1",
   "language": "julia",
   "name": "julia-1.5"
  },
  "language_info": {
   "file_extension": ".jl",
   "mimetype": "application/julia",
   "name": "julia",
   "version": "1.5.1"
  }
 },
 "nbformat": 4,
 "nbformat_minor": 4
}
