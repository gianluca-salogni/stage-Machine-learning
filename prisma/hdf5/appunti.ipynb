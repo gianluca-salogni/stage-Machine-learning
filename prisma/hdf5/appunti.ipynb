{
 "cells": [
  {
   "cell_type": "markdown",
   "metadata": {},
   "source": [
    "# appunti hdf5\n",
    "\n",
    "formato per scambio di dati autodescrittivi \n",
    "\n",
    "autodescrittivo: data set, eg array n dimensionale di numeri, ha metadati addizionali associati ad esso che descrivono cose come rango \n",
    "\tdell'array, numero di elementi in ogni dimensione, etc\n",
    "\t\n",
    "prende principi da programmazione orientata agli ogg\n",
    "\n",
    "array n-dim, immagini e tabelle possono esser immagazzinati nello stesso file ma in oggetti diversi\n",
    "\n",
    "utente può capire contenuti del file a cui accede nei termini dei vari tipi di dati oggetto hdf5, segue descriz tipi dati oggetto\n",
    "\n",
    "## hdf5 file struct\n",
    "\n",
    "file hdf5 = directory + collection di data obj\n",
    "\n",
    "ogni data obj ha un entry nella directory contenente puntatore a locazione del data obj, e informazione sul datatype\n",
    "\n",
    "++ su datatypes: https://portal.hdfgroup.org/display/HDF5/Datatype+Basics\n",
    "\n",
    "ci sono solo due data obj fondamentali in hdf5: groups e namespaces\n",
    "\n",
    "file hdf5 sono organizzati gerarchicamente con due strutture primarie: groups, datasets\n"
   ]
  },
  {
   "cell_type": "code",
   "execution_count": 2,
   "metadata": {},
   "outputs": [],
   "source": [
    "#= non va\n",
    "# grafo creato con ipytree\n",
    "# installazione : dal prompt di comandi di anaconda: conda install -c conda-forge ipytree\n",
    "using PyCall\n",
    "py\"\"\"\n",
    "def pytree():\n",
    "    from ipytree import Tree, Node\n",
    "    tree=Tree()\n",
    "\n",
    "    tree.add_node(Node(\"Node1\"))\n",
    "    tree.add_node(Node(\"Node2\"))\n",
    "    tree.add_node(Node(\"Node3\"))\n",
    "\n",
    "    tree\n",
    "\"\"\"\n",
    "mytree= py\"pytree\"\n",
    "mytree()=# "
   ]
  },
  {
   "cell_type": "markdown",
   "metadata": {},
   "source": [
    "## gruppi\n",
    "\n",
    "un gruppo hdf5 è una struttura contenente 0 o + oggetti\n",
    "\n",
    "ogni gruppo contiene 2 parti: \n",
    "\n",
    "    . header: contiene nome gruppo, lista di attributi del gruppo\n",
    "    \n",
    "    . tabella simboli: lista tutti gli oggetti hdf5 appartenenti al gruppo\n",
    "    \n",
    "gerarchia gruppi/membri è simile a directory/file e path in UNIX:\n",
    "\n",
    "/ <- indica gruppo root\n",
    "\n",
    "/foo <- indica membro foo del gruppo root\n",
    "\n",
    "/foo/loo <- indica membro loo del gruppo foo, il gruppo foo è membro del gruppo root\n",
    "    \n",
    "## dataset\n",
    "\n",
    "dataset sono array multidimensionali di dati con metadati annessi, un dataset è immagazzinato in due parti: header e data array\n",
    "\n",
    "### dataset header\n",
    "\n",
    "contiene informazioni necessarie all interpretazione della porzione array del dataset e metadati(o puntatori a metadati)  che descrivano o annotino il dataset.\n",
    "\n",
    "informazioni nell'header includono: nome dell oggetto, dimensioni oggetto, number-type dell oggetto\n",
    "\n",
    "\n",
    "\n",
    "++ hdf5 vs hdf-eos5?"
   ]
  },
  {
   "cell_type": "code",
   "execution_count": null,
   "metadata": {},
   "outputs": [],
   "source": []
  }
 ],
 "metadata": {
  "kernelspec": {
   "display_name": "Julia 1.5.1",
   "language": "julia",
   "name": "julia-1.5"
  },
  "language_info": {
   "file_extension": ".jl",
   "mimetype": "application/julia",
   "name": "julia",
   "version": "1.5.1"
  }
 },
 "nbformat": 4,
 "nbformat_minor": 4
}
