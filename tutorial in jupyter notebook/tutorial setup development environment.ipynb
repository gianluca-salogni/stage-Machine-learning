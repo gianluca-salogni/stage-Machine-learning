{
 "cells": [
  {
   "cell_type": "markdown",
   "metadata": {},
   "source": [
    "# Tutorial preparazione ambiente di sviluppo con Julia, python, R, VS Code, Docker, Anaconda"
   ]
  },
  {
   "cell_type": "markdown",
   "metadata": {},
   "source": [
    "## Python\n",
    "Prima di installare Python è preferibile controllare che non sia già installato\n",
    "\n",
    "### Controllare su windows\n",
    "\n",
    "1. cliccare il pulsante windows\n",
    "2. cercare il prompt dei comandi o powershell di windows\n",
    "3. digitare ``` python --version ```\n",
    "4. se il comando non è riconosciuto, python non è installato correttamente\n",
    "\n",
    "### Controllare su linux\n",
    "\n",
    "1. aprire un prompt e provare i seguenti comandi: \n",
    "    ```\n",
    "    python --version\n",
    "    python2 --version\n",
    "    python3 --version\n",
    "    ```\n",
    "\n",
    "### Controllare su mac os\n",
    "\n",
    "1. premi pulsanti Cmd e Enter assieme\n",
    "2. scrivi \"terminal\"\n",
    "3. premi invio\n",
    "4. prova i seguenti comandi nella riga di comando:\n",
    "     ```\n",
    "    python --version\n",
    "    python2 --version\n",
    "    python3 --version\n",
    "    ```\n",
    "5. se python è installato, uno di questi comandi darà risposta\n",
    "\n",
    "## Installazione\n",
    "\n",
    "Se python non è presente o se la versione è vecchia, si procede con l'installazione\n",
    "Python è scaricabile da https://www.python.org/downloads/ , non ha prerequisiti particolari\n"
   ]
  },
  {
   "cell_type": "markdown",
   "metadata": {},
   "source": [
    "## Julia\n",
    "\n",
    "Julia è scaricabile da https://julialang.org/downloads/\n",
    "\n",
    "### Windows\n",
    "\n",
    "Per poter eseguire Julia direttamente da linea di comando, è necessario aggiungere la cartella dove è salvato l'eseguibile a  PATH:\n",
    "\n",
    "1. apri Run, scrivi ```rundll32 sysdm.cpl,EditEnvironmentVariables``` , premi invio\n",
    "\n",
    "2. sotto \"User Variables\" o \"System Variables\" , trova colonna \"Path\" e clicca edit\n",
    "\n",
    "3. apparirà una schermatanella quale dovrai cliccare \"New\" e incollare il percorso di installazione che, di default, assomiglia a : ```C:\\Users\\{nome utente}\\AppData\\Local\\Programs\\Julia 1.5.1\\bin```\n",
    "\n",
    "4. clicca ok e avrai fatto\n"
   ]
  },
  {
   "cell_type": "markdown",
   "metadata": {},
   "source": [
    "## R + R studio\n",
    "\n",
    "R è un ambiente per calcolo statistico e per disegno di grafici, è scaricabile da https://cran.r-project.org/mirrors.html\n",
    "\n",
    "Rstudio è un utile programma per l'uso comodo di R, è scaricabile da https://rstudio.com/products/rstudio/download/"
   ]
  },
  {
   "cell_type": "markdown",
   "metadata": {},
   "source": [
    "## VisualStudio Code\n",
    "\n",
    "VS Code è un programma di edit di testo con funzioni per facilitare la programmazione  come descrizione di metodo/oggetto su hover.\n",
    "\n",
    "$ \\`E $ disponibile da https://code.visualstudio.com/\n",
    "\n",
    "Una volta installato, è possibile installare i plugin per il riconoscimento del linguaggio julia:\n",
    "1. fai partire vs code\n",
    "\n",
    "2. da vs code, "
   ]
  },
  {
   "cell_type": "code",
   "execution_count": null,
   "metadata": {},
   "outputs": [],
   "source": []
  }
 ],
 "metadata": {
  "kernelspec": {
   "display_name": "Julia 1.5.1",
   "language": "julia",
   "name": "julia-1.5"
  },
  "language_info": {
   "file_extension": ".jl",
   "mimetype": "application/julia",
   "name": "julia",
   "version": "1.5.1"
  }
 },
 "nbformat": 4,
 "nbformat_minor": 4
}
