{
 "cells": [
  {
   "cell_type": "markdown",
   "metadata": {},
   "source": [
    "# algrebra lineare\n",
    "\n",
    "+ https://github.com/JuliaAcademy/DataScience/blob/master/02.%20Linear%20Algebra.ipynb"
   ]
  },
  {
   "cell_type": "code",
   "execution_count": 1,
   "metadata": {},
   "outputs": [],
   "source": [
    "using LinearAlgebra"
   ]
  },
  {
   "cell_type": "code",
   "execution_count": 15,
   "metadata": {},
   "outputs": [
    {
     "name": "stderr",
     "output_type": "stream",
     "text": [
      "┌ Info: Precompiling MAT [23992714-dd62-5051-b70f-ba57cb901cac]\n",
      "└ @ Base loading.jl:1278\n"
     ]
    }
   ],
   "source": [
    "using SparseArrays\n",
    "using Images\n",
    "using MAT"
   ]
  },
  {
   "cell_type": "code",
   "execution_count": 3,
   "metadata": {},
   "outputs": [],
   "source": [
    "using Pkg"
   ]
  },
  {
   "cell_type": "code",
   "execution_count": 6,
   "metadata": {},
   "outputs": [
    {
     "name": "stderr",
     "output_type": "stream",
     "text": [
      "\u001b[32m\u001b[1m  Resolving\u001b[22m\u001b[39m package versions...\n",
      "\u001b[32m\u001b[1m  Installed\u001b[22m\u001b[39m CodecZlib ────────── v0.7.0\n",
      "\u001b[32m\u001b[1m  Installed\u001b[22m\u001b[39m BufferedStreams ──── v1.0.0\n",
      "\u001b[32m\u001b[1m  Installed\u001b[22m\u001b[39m TranscodingStreams ─ v0.9.5\n",
      "\u001b[32m\u001b[1m  Installed\u001b[22m\u001b[39m MAT ──────────────── v0.8.1\n",
      "\u001b[32m\u001b[1mUpdating\u001b[22m\u001b[39m `C:\\Users\\i am\\.julia\\environments\\v1.5\\Project.toml`\n",
      " \u001b[90m [23992714] \u001b[39m\u001b[92m+ MAT v0.8.1\u001b[39m\n",
      "\u001b[32m\u001b[1mUpdating\u001b[22m\u001b[39m `C:\\Users\\i am\\.julia\\environments\\v1.5\\Manifest.toml`\n",
      " \u001b[90m [e1450e63] \u001b[39m\u001b[92m+ BufferedStreams v1.0.0\u001b[39m\n",
      " \u001b[90m [944b1d66] \u001b[39m\u001b[92m+ CodecZlib v0.7.0\u001b[39m\n",
      " \u001b[90m [23992714] \u001b[39m\u001b[92m+ MAT v0.8.1\u001b[39m\n",
      " \u001b[90m [3bb67fe8] \u001b[39m\u001b[92m+ TranscodingStreams v0.9.5\u001b[39m\n"
     ]
    }
   ],
   "source": [
    "Pkg.add(\"MAT\")"
   ]
  },
  {
   "cell_type": "code",
   "execution_count": 8,
   "metadata": {},
   "outputs": [
    {
     "name": "stdout",
     "output_type": "stream",
     "text": [
      "A[11] == A[1, 2] = true\n"
     ]
    }
   ],
   "source": [
    "# poichè matrici son salvate in mem come array, meglio iterare su colonne rispetto che righe\n",
    "A = rand(10,10); # created a random matrix of size 10-by-10\n",
    "Atranspose = A' # matrix transpose\n",
    "A = A*Atranspose; # matrix multiplication\n",
    "@show A[11] == A[1,2];\n",
    "#A[1:10] è prima riga, A[12] è quindi prima riga seconda colonnna"
   ]
  },
  {
   "cell_type": "code",
   "execution_count": 12,
   "metadata": {},
   "outputs": [
    {
     "name": "stdout",
     "output_type": "stream",
     "text": [
      "typeof(Atranspose) = Adjoint{Float64,Array{Float64,2}}\n"
     ]
    },
    {
     "data": {
      "text/plain": [
       "8"
      ]
     },
     "execution_count": 12,
     "metadata": {},
     "output_type": "execute_result"
    }
   ],
   "source": [
    "@show typeof(Atranspose)\n",
    "sizeof(Atranspose)\n",
    "# transpose non traspone veramente, tiene adjoint"
   ]
  },
  {
   "cell_type": "code",
   "execution_count": 11,
   "metadata": {},
   "outputs": [
    {
     "data": {
      "text/plain": [
       "800"
      ]
     },
     "execution_count": 11,
     "metadata": {},
     "output_type": "execute_result"
    }
   ],
   "source": [
    "sizeof(A)"
   ]
  },
  {
   "cell_type": "code",
   "execution_count": 13,
   "metadata": {},
   "outputs": [
    {
     "data": {
      "text/plain": [
       "10×10 Array{Float64,2}:\n",
       " 0.389487   0.196072  0.709937   0.206778  …  0.240629  0.165792   0.0767833\n",
       " 0.440177   0.19682   0.858638   0.637242     0.515248  0.404306   0.502825\n",
       " 0.50565    0.250091  0.141698   0.717208     0.887062  0.31445    0.900004\n",
       " 0.0838596  0.424433  0.644828   0.779603     0.529695  0.449297   0.408935\n",
       " 0.263764   0.704174  0.179648   0.976396     0.548318  0.983519   0.874577\n",
       " 0.59169    0.398763  0.433366   0.850075  …  0.532752  0.284996   0.53182\n",
       " 0.807232   0.285439  0.763267   0.906554     0.922842  0.406043   0.0141546\n",
       " 0.0685355  0.448376  0.207981   0.761472     0.441878  0.316889   0.450097\n",
       " 0.376372   0.147398  0.0625099  0.488454     0.605325  0.0823693  0.728467\n",
       " 0.403602   0.877347  0.755292   0.716056     0.712594  0.192642   0.572092"
      ]
     },
     "execution_count": 13,
     "metadata": {},
     "output_type": "execute_result"
    }
   ],
   "source": [
    "#poicè adjoint, possiamo risalire alla matrice non transposa facilmente\n",
    "Atranspose.parent"
   ]
  },
  {
   "cell_type": "code",
   "execution_count": 14,
   "metadata": {},
   "outputs": [
    {
     "data": {
      "text/plain": [
       "10×10 Array{Float64,2}:\n",
       " 0.389487   0.440177  0.50565   0.0838596  …  0.0685355  0.376372   0.403602\n",
       " 0.196072   0.19682   0.250091  0.424433      0.448376   0.147398   0.877347\n",
       " 0.709937   0.858638  0.141698  0.644828      0.207981   0.0625099  0.755292\n",
       " 0.206778   0.637242  0.717208  0.779603      0.761472   0.488454   0.716056\n",
       " 0.425918   0.476219  0.592198  0.744769      0.793497   0.861691   0.589166\n",
       " 0.866402   0.101093  0.84172   0.621916   …  0.49429    0.741216   0.152206\n",
       " 0.696113   0.924686  0.682494  0.550386      0.794563   0.129061   0.31417\n",
       " 0.240629   0.515248  0.887062  0.529695      0.441878   0.605325   0.712594\n",
       " 0.165792   0.404306  0.31445   0.449297      0.316889   0.0823693  0.192642\n",
       " 0.0767833  0.502825  0.900004  0.408935      0.450097   0.728467   0.572092"
      ]
     },
     "execution_count": 14,
     "metadata": {},
     "output_type": "execute_result"
    }
   ],
   "source": [
    "#per ottenere vera trasposta possiamo usare copy\n",
    "B = copy(Atranspose)"
   ]
  },
  {
   "cell_type": "code",
   "execution_count": 16,
   "metadata": {},
   "outputs": [],
   "source": [
    "# già visto risolutore sistemi lineare \\ in intro a julia"
   ]
  },
  {
   "cell_type": "markdown",
   "metadata": {},
   "source": [
    "## fattorizzazione\n"
   ]
  },
  {
   "cell_type": "code",
   "execution_count": 19,
   "metadata": {},
   "outputs": [
    {
     "data": {
      "text/plain": [
       "LU{Float64,Array{Float64,2}}\n",
       "L factor:\n",
       "10×10 Array{Float64,2}:\n",
       " 1.0        0.0        0.0       …  0.0       0.0        0.0       0.0\n",
       " 0.813173   1.0        0.0          0.0       0.0        0.0       0.0\n",
       " 0.878935   0.469007   1.0          0.0       0.0        0.0       0.0\n",
       " 0.999211   0.68459    0.911582     0.0       0.0        0.0       0.0\n",
       " 0.863045  -0.386239  -0.666228     0.0       0.0        0.0       0.0\n",
       " 0.734418   0.885059   0.445318  …  0.0       0.0        0.0       0.0\n",
       " 0.715993   0.881775   0.402028     1.0       0.0        0.0       0.0\n",
       " 0.742955   0.500082   0.441927     0.844983  1.0        0.0       0.0\n",
       " 0.628654   0.113715   0.845488     0.400765  0.305277   1.0       0.0\n",
       " 0.848653   0.419333   0.154133     0.928166  0.487122  -0.353411  1.0\n",
       "U factor:\n",
       "10×10 Array{Float64,2}:\n",
       " 2.60105  2.83031   3.45542    …  2.61126      2.58592     3.03746\n",
       " 0.0      0.848124  0.0755823     0.403521    -0.227072    0.304359\n",
       " 0.0      0.0       1.00091       0.562966     0.860751    0.130619\n",
       " 0.0      0.0       0.0           0.458183     0.0850322   0.221035\n",
       " 0.0      0.0       0.0           0.477839    -0.0611001  -0.42522\n",
       " 0.0      0.0       0.0        …  0.00120021  -0.0680733   0.166953\n",
       " 0.0      0.0       0.0           0.137228     0.0837464   0.388248\n",
       " 0.0      0.0       0.0           0.13644     -0.0837627  -0.433799\n",
       " 0.0      0.0       0.0           0.0          0.185155    0.0751059\n",
       " 0.0      0.0       0.0           0.0          0.0        -0.159992"
      ]
     },
     "execution_count": 19,
     "metadata": {},
     "output_type": "execute_result"
    }
   ],
   "source": [
    "# lu fact L*U=P\n",
    "luA = lu(A)\n"
   ]
  },
  {
   "cell_type": "code",
   "execution_count": 21,
   "metadata": {},
   "outputs": [
    {
     "data": {
      "text/plain": [
       "LinearAlgebra.QRCompactWY{Float64,Array{Float64,2}}\n",
       "Q factor:\n",
       "10×10 LinearAlgebra.QRCompactWYQ{Float64,Array{Float64,2}}:\n",
       " -0.32864    0.612321     0.421279   …   0.309589   -0.13904     0.0460866\n",
       " -0.309649  -0.412812     0.454977      -0.192405   -0.103072    0.173485\n",
       " -0.334691  -0.00218777  -0.463103       0.153765    0.586109    0.193784\n",
       " -0.32316    0.0222082    0.128316      -0.0130668   0.432761   -0.580881\n",
       " -0.380491  -0.112356    -0.306274       0.176955   -0.0940895   0.0665067\n",
       " -0.27966   -0.359703     0.0813661  …  -0.0572175  -0.160764   -0.551886\n",
       " -0.380791   0.384732     0.096985      -0.279575    0.0359467   0.117094\n",
       " -0.282911  -0.0770541   -0.0601427     -0.640338   -0.0214944   0.34563\n",
       " -0.239386   0.159344    -0.509024      -0.0303083  -0.620134   -0.20529\n",
       " -0.272644  -0.364409     0.109719       0.565349   -0.134983    0.329375\n",
       "R factor:\n",
       "10×10 Array{Float64,2}:\n",
       " -6.83066  -8.61356  -10.2545    …  -8.55452    -7.5573     -8.83029\n",
       "  0.0      -1.16875   -0.819949     -0.932701   -0.388346   -1.23751\n",
       "  0.0       0.0       -1.38105      -0.843817   -1.3803     -0.435882\n",
       "  0.0       0.0        0.0          -0.423594   -0.172974   -0.398852\n",
       "  0.0       0.0        0.0          -0.273833    0.170555    0.442676\n",
       "  0.0       0.0        0.0       …   0.0665298   0.12403    -0.206122\n",
       "  0.0       0.0        0.0           0.183814    0.0146299   0.0259792\n",
       "  0.0       0.0        0.0          -0.0894987   0.0501879   0.284714\n",
       "  0.0       0.0        0.0           0.0        -0.143139   -0.127301\n",
       "  0.0       0.0        0.0           0.0         0.0         0.092936"
      ]
     },
     "execution_count": 21,
     "metadata": {},
     "output_type": "execute_result"
    }
   ],
   "source": [
    "# qr fact\n",
    "qrA = qr(A)"
   ]
  },
  {
   "cell_type": "code",
   "execution_count": 22,
   "metadata": {},
   "outputs": [
    {
     "name": "stdout",
     "output_type": "stream",
     "text": [
      "search: \u001b[0m\u001b[1mf\u001b[22m\u001b[0m\u001b[1ma\u001b[22m\u001b[0m\u001b[1mc\u001b[22m\u001b[0m\u001b[1mt\u001b[22m\u001b[0m\u001b[1mo\u001b[22m\u001b[0m\u001b[1mr\u001b[22m\u001b[0m\u001b[1mi\u001b[22m\u001b[0m\u001b[1mz\u001b[22m\u001b[0m\u001b[1me\u001b[22m \u001b[0m\u001b[1mF\u001b[22m\u001b[0m\u001b[1ma\u001b[22m\u001b[0m\u001b[1mc\u001b[22m\u001b[0m\u001b[1mt\u001b[22m\u001b[0m\u001b[1mo\u001b[22m\u001b[0m\u001b[1mr\u001b[22m\u001b[0m\u001b[1mi\u001b[22m\u001b[0m\u001b[1mz\u001b[22mation \u001b[0m\u001b[1mf\u001b[22m\u001b[0m\u001b[1ma\u001b[22m\u001b[0m\u001b[1mc\u001b[22m\u001b[0m\u001b[1mt\u001b[22m\u001b[0m\u001b[1mo\u001b[22m\u001b[0m\u001b[1mr\u001b[22m\u001b[0m\u001b[1mi\u001b[22mal\n",
      "\n"
     ]
    },
    {
     "data": {
      "text/latex": [
       "\\begin{verbatim}\n",
       "factorize(A)\n",
       "\\end{verbatim}\n",
       "Compute a convenient factorization of \\texttt{A}, based upon the type of the input matrix. \\texttt{factorize} checks \\texttt{A} to see if it is symmetric/triangular/etc. if \\texttt{A} is passed as a generic matrix. \\texttt{factorize} checks every element of \\texttt{A} to verify/rule out each property. It will short-circuit as soon as it can rule out symmetry/triangular structure. The return value can be reused for efficient solving of multiple systems. For example: \\texttt{A=factorize(A); x=A{\\textbackslash}b; y=A{\\textbackslash}C}.\n",
       "\n",
       "\\begin{tabular}\n",
       "{l | l}\n",
       "Properties of \\texttt{A} & type of factorization \\\\\n",
       "\\hline\n",
       "Positive-definite & Cholesky (see \\href{@ref}{\\texttt{cholesky}}) \\\\\n",
       "Dense Symmetric/Hermitian & Bunch-Kaufman (see \\href{@ref}{\\texttt{bunchkaufman}}) \\\\\n",
       "Sparse Symmetric/Hermitian & LDLt (see \\href{@ref}{\\texttt{ldlt}}) \\\\\n",
       "Triangular & Triangular \\\\\n",
       "Diagonal & Diagonal \\\\\n",
       "Bidiagonal & Bidiagonal \\\\\n",
       "Tridiagonal & LU (see \\href{@ref}{\\texttt{lu}}) \\\\\n",
       "Symmetric real tridiagonal & LDLt (see \\href{@ref}{\\texttt{ldlt}}) \\\\\n",
       "General square & LU (see \\href{@ref}{\\texttt{lu}}) \\\\\n",
       "General non-square & QR (see \\href{@ref}{\\texttt{qr}}) \\\\\n",
       "\\end{tabular}\n",
       "If \\texttt{factorize} is called on a Hermitian positive-definite matrix, for instance, then \\texttt{factorize} will return a Cholesky factorization.\n",
       "\n",
       "\\section{Examples}\n",
       "\\begin{verbatim}\n",
       "julia> A = Array(Bidiagonal(fill(1.0, (5, 5)), :U))\n",
       "5×5 Array{Float64,2}:\n",
       " 1.0  1.0  0.0  0.0  0.0\n",
       " 0.0  1.0  1.0  0.0  0.0\n",
       " 0.0  0.0  1.0  1.0  0.0\n",
       " 0.0  0.0  0.0  1.0  1.0\n",
       " 0.0  0.0  0.0  0.0  1.0\n",
       "\n",
       "julia> factorize(A) # factorize will check to see that A is already factorized\n",
       "5×5 Bidiagonal{Float64,Array{Float64,1}}:\n",
       " 1.0  1.0   ⋅    ⋅    ⋅\n",
       "  ⋅   1.0  1.0   ⋅    ⋅\n",
       "  ⋅    ⋅   1.0  1.0   ⋅\n",
       "  ⋅    ⋅    ⋅   1.0  1.0\n",
       "  ⋅    ⋅    ⋅    ⋅   1.0\n",
       "\\end{verbatim}\n",
       "This returns a \\texttt{5×5 Bidiagonal\\{Float64\\}}, which can now be passed to other linear algebra functions (e.g. eigensolvers) which will use specialized methods for \\texttt{Bidiagonal} types.\n",
       "\n"
      ],
      "text/markdown": [
       "```\n",
       "factorize(A)\n",
       "```\n",
       "\n",
       "Compute a convenient factorization of `A`, based upon the type of the input matrix. `factorize` checks `A` to see if it is symmetric/triangular/etc. if `A` is passed as a generic matrix. `factorize` checks every element of `A` to verify/rule out each property. It will short-circuit as soon as it can rule out symmetry/triangular structure. The return value can be reused for efficient solving of multiple systems. For example: `A=factorize(A); x=A\\b; y=A\\C`.\n",
       "\n",
       "| Properties of `A`          | type of factorization                      |\n",
       "|:-------------------------- |:------------------------------------------ |\n",
       "| Positive-definite          | Cholesky (see [`cholesky`](@ref))          |\n",
       "| Dense Symmetric/Hermitian  | Bunch-Kaufman (see [`bunchkaufman`](@ref)) |\n",
       "| Sparse Symmetric/Hermitian | LDLt (see [`ldlt`](@ref))                  |\n",
       "| Triangular                 | Triangular                                 |\n",
       "| Diagonal                   | Diagonal                                   |\n",
       "| Bidiagonal                 | Bidiagonal                                 |\n",
       "| Tridiagonal                | LU (see [`lu`](@ref))                      |\n",
       "| Symmetric real tridiagonal | LDLt (see [`ldlt`](@ref))                  |\n",
       "| General square             | LU (see [`lu`](@ref))                      |\n",
       "| General non-square         | QR (see [`qr`](@ref))                      |\n",
       "\n",
       "If `factorize` is called on a Hermitian positive-definite matrix, for instance, then `factorize` will return a Cholesky factorization.\n",
       "\n",
       "# Examples\n",
       "\n",
       "```jldoctest\n",
       "julia> A = Array(Bidiagonal(fill(1.0, (5, 5)), :U))\n",
       "5×5 Array{Float64,2}:\n",
       " 1.0  1.0  0.0  0.0  0.0\n",
       " 0.0  1.0  1.0  0.0  0.0\n",
       " 0.0  0.0  1.0  1.0  0.0\n",
       " 0.0  0.0  0.0  1.0  1.0\n",
       " 0.0  0.0  0.0  0.0  1.0\n",
       "\n",
       "julia> factorize(A) # factorize will check to see that A is already factorized\n",
       "5×5 Bidiagonal{Float64,Array{Float64,1}}:\n",
       " 1.0  1.0   ⋅    ⋅    ⋅\n",
       "  ⋅   1.0  1.0   ⋅    ⋅\n",
       "  ⋅    ⋅   1.0  1.0   ⋅\n",
       "  ⋅    ⋅    ⋅   1.0  1.0\n",
       "  ⋅    ⋅    ⋅    ⋅   1.0\n",
       "```\n",
       "\n",
       "This returns a `5×5 Bidiagonal{Float64}`, which can now be passed to other linear algebra functions (e.g. eigensolvers) which will use specialized methods for `Bidiagonal` types.\n"
      ],
      "text/plain": [
       "\u001b[36m  factorize(A)\u001b[39m\n",
       "\n",
       "  Compute a convenient factorization of \u001b[36mA\u001b[39m, based upon the type of the input\n",
       "  matrix. \u001b[36mfactorize\u001b[39m checks \u001b[36mA\u001b[39m to see if it is symmetric/triangular/etc. if \u001b[36mA\u001b[39m is\n",
       "  passed as a generic matrix. \u001b[36mfactorize\u001b[39m checks every element of \u001b[36mA\u001b[39m to\n",
       "  verify/rule out each property. It will short-circuit as soon as it can rule\n",
       "  out symmetry/triangular structure. The return value can be reused for\n",
       "  efficient solving of multiple systems. For example: \u001b[36mA=factorize(A); x=A\\b;\n",
       "  y=A\\C\u001b[39m.\n",
       "\n",
       "  Properties of \u001b[36mA\u001b[39m            type of factorization           \n",
       "  –––––––––––––––––––––––––– ––––––––––––––––––––––––––––––––\n",
       "  Positive-definite          Cholesky (see \u001b[36mcholesky\u001b[39m)         \n",
       "  Dense Symmetric/Hermitian  Bunch-Kaufman (see \u001b[36mbunchkaufman\u001b[39m)\n",
       "  Sparse Symmetric/Hermitian LDLt (see \u001b[36mldlt\u001b[39m)                 \n",
       "  Triangular                 Triangular                      \n",
       "  Diagonal                   Diagonal                        \n",
       "  Bidiagonal                 Bidiagonal                      \n",
       "  Tridiagonal                LU (see \u001b[36mlu\u001b[39m)                     \n",
       "  Symmetric real tridiagonal LDLt (see \u001b[36mldlt\u001b[39m)                 \n",
       "  General square             LU (see \u001b[36mlu\u001b[39m)                     \n",
       "  General non-square         QR (see \u001b[36mqr\u001b[39m)                     \n",
       "\n",
       "  If \u001b[36mfactorize\u001b[39m is called on a Hermitian positive-definite matrix, for\n",
       "  instance, then \u001b[36mfactorize\u001b[39m will return a Cholesky factorization.\n",
       "\n",
       "\u001b[1m  Examples\u001b[22m\n",
       "\u001b[1m  ≡≡≡≡≡≡≡≡≡≡\u001b[22m\n",
       "\n",
       "\u001b[36m  julia> A = Array(Bidiagonal(fill(1.0, (5, 5)), :U))\u001b[39m\n",
       "\u001b[36m  5×5 Array{Float64,2}:\u001b[39m\n",
       "\u001b[36m   1.0  1.0  0.0  0.0  0.0\u001b[39m\n",
       "\u001b[36m   0.0  1.0  1.0  0.0  0.0\u001b[39m\n",
       "\u001b[36m   0.0  0.0  1.0  1.0  0.0\u001b[39m\n",
       "\u001b[36m   0.0  0.0  0.0  1.0  1.0\u001b[39m\n",
       "\u001b[36m   0.0  0.0  0.0  0.0  1.0\u001b[39m\n",
       "\u001b[36m  \u001b[39m\n",
       "\u001b[36m  julia> factorize(A) # factorize will check to see that A is already factorized\u001b[39m\n",
       "\u001b[36m  5×5 Bidiagonal{Float64,Array{Float64,1}}:\u001b[39m\n",
       "\u001b[36m   1.0  1.0   ⋅    ⋅    ⋅\u001b[39m\n",
       "\u001b[36m    ⋅   1.0  1.0   ⋅    ⋅\u001b[39m\n",
       "\u001b[36m    ⋅    ⋅   1.0  1.0   ⋅\u001b[39m\n",
       "\u001b[36m    ⋅    ⋅    ⋅   1.0  1.0\u001b[39m\n",
       "\u001b[36m    ⋅    ⋅    ⋅    ⋅   1.0\u001b[39m\n",
       "\n",
       "  This returns a \u001b[36m5×5 Bidiagonal{Float64}\u001b[39m, which can now be passed to other\n",
       "  linear algebra functions (e.g. eigensolvers) which will use specialized\n",
       "  methods for \u001b[36mBidiagonal\u001b[39m types."
      ]
     },
     "execution_count": 22,
     "metadata": {},
     "output_type": "execute_result"
    }
   ],
   "source": [
    "?factorize"
   ]
  },
  {
   "cell_type": "code",
   "execution_count": 28,
   "metadata": {},
   "outputs": [
    {
     "data": {
      "text/plain": [
       "5×5 SparseMatrixCSC{Float64,Int64} with 10 stored entries:\n",
       "  [1, 1]  =  0.546534\n",
       "  [3, 1]  =  0.133458\n",
       "  [5, 1]  =  0.987296\n",
       "  [2, 2]  =  0.864348\n",
       "  [5, 2]  =  0.831911\n",
       "  [3, 3]  =  0.935003\n",
       "  [5, 4]  =  0.353319\n",
       "  [1, 5]  =  0.185174\n",
       "  [2, 5]  =  0.410785\n",
       "  [5, 5]  =  0.610866"
      ]
     },
     "execution_count": 28,
     "metadata": {},
     "output_type": "execute_result"
    }
   ],
   "source": [
    "# sparse matrix\n",
    "# matrice contenente, per la stratrange maggioranza di comb colonna/riga, 0\n",
    "# storata compressa\n",
    "using SparseArrays\n",
    "S = sprand(5,5,2/5)"
   ]
  },
  {
   "cell_type": "code",
   "execution_count": 29,
   "metadata": {},
   "outputs": [
    {
     "data": {
      "text/plain": [
       "5×5 SparseMatrixCSC{Float64,Int64} with 10 stored entries:\n",
       "  [1, 1]  =  0.546534\n",
       "  [3, 1]  =  0.133458\n",
       "  [5, 1]  =  0.987296\n",
       "  [2, 2]  =  0.864348\n",
       "  [5, 2]  =  0.831911\n",
       "  [3, 3]  =  0.935003\n",
       "  [5, 4]  =  0.353319\n",
       "  [1, 5]  =  0.185174\n",
       "  [2, 5]  =  0.410785\n",
       "  [5, 5]  =  0.610866"
      ]
     },
     "execution_count": 29,
     "metadata": {},
     "output_type": "execute_result"
    }
   ],
   "source": [
    "S"
   ]
  },
  {
   "cell_type": "code",
   "execution_count": 30,
   "metadata": {},
   "outputs": [
    {
     "data": {
      "text/plain": [
       "5×5 Array{Float64,2}:\n",
       " 0.546534  0.0       0.0       0.0       0.185174\n",
       " 0.0       0.864348  0.0       0.0       0.410785\n",
       " 0.133458  0.0       0.935003  0.0       0.0\n",
       " 0.0       0.0       0.0       0.0       0.0\n",
       " 0.987296  0.831911  0.0       0.353319  0.610866"
      ]
     },
     "execution_count": 30,
     "metadata": {},
     "output_type": "execute_result"
    }
   ],
   "source": [
    "Matrix(S)"
   ]
  },
  {
   "cell_type": "code",
   "execution_count": 31,
   "metadata": {},
   "outputs": [
    {
     "data": {
      "text/plain": [
       "10-element Array{Int64,1}:\n",
       " 1\n",
       " 3\n",
       " 5\n",
       " 2\n",
       " 5\n",
       " 3\n",
       " 5\n",
       " 1\n",
       " 2\n",
       " 5"
      ]
     },
     "execution_count": 31,
     "metadata": {},
     "output_type": "execute_result"
    }
   ],
   "source": [
    "S.rowval"
   ]
  },
  {
   "cell_type": "code",
   "execution_count": 35,
   "metadata": {},
   "outputs": [
    {
     "data": {
      "text/plain": [
       "6-element Array{Int64,1}:\n",
       "  1\n",
       "  4\n",
       "  6\n",
       "  7\n",
       "  8\n",
       " 11"
      ]
     },
     "execution_count": 35,
     "metadata": {},
     "output_type": "execute_result"
    }
   ],
   "source": [
    "S.colptr\n",
    "#colptr indica dove iniziano le colonne\n",
    "# eg, se S.colptr[2]=3, allora la seconda colonna inizia dal secondo elemento"
   ]
  },
  {
   "cell_type": "code",
   "execution_count": 36,
   "metadata": {},
   "outputs": [
    {
     "data": {
      "text/plain": [
       "10-element Array{Float64,1}:\n",
       " 0.5465342750341036\n",
       " 0.13345824692476138\n",
       " 0.9872961907663786\n",
       " 0.8643477698976827\n",
       " 0.8319111344612424\n",
       " 0.9350032414744565\n",
       " 0.3533188011997015\n",
       " 0.18517389748700586\n",
       " 0.4107853850468641\n",
       " 0.6108655667797533"
      ]
     },
     "execution_count": 36,
     "metadata": {},
     "output_type": "execute_result"
    }
   ],
   "source": [
    "S.nzval\n",
    "# qua ci sono i valori effettivi"
   ]
  },
  {
   "cell_type": "code",
   "execution_count": null,
   "metadata": {},
   "outputs": [],
   "source": []
  }
 ],
 "metadata": {
  "kernelspec": {
   "display_name": "Julia 1.5.1",
   "language": "julia",
   "name": "julia-1.5"
  },
  "language_info": {
   "file_extension": ".jl",
   "mimetype": "application/julia",
   "name": "julia",
   "version": "1.5.1"
  }
 },
 "nbformat": 4,
 "nbformat_minor": 4
}
